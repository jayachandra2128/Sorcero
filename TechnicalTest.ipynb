{
 "cells": [
  {
   "cell_type": "code",
   "execution_count": 1,
   "metadata": {},
   "outputs": [],
   "source": [
    "text=u\"Just A Rather Very Intelligent System a.k.a JARVIS is created by Tony Stark natural-language and a sophisticated artificial intelligence user interface computer system, named after Edwin Jarvis, the butler who worked for Howard Stark. Though its primary duty is to automate Stark’s Malibu estate, the lifelike program fulfills many other needs for Stark, like being an information source for him, a diagnostic tool, a consultant and a voice of reason in Stark’s life. It was also responsible to provide security for Tony Stark's Mansion and Stark Tower. After creating the Mark II armor, Stark uploaded JARVIS into all of the Iron Man Armors, as well as allowing him to interact with the other Avengers, giving them valuable information during combat. JARVIS may be the one intellect Stark feels most comfortable opening up to. JARVIS can object to Stark’s commands if necessary. JARVIS speaks with a refined British accent, and is capable of back talk, sarcasm and condescension. During the Ultron Offensive, JARVIS was destroyed by Ultron, although his remaining programming codes unknowingly continued to thwart Ultron's plans of gaining access to nuclear missiles. His remains were found by Stark, who uploaded them into a synthetic body made of vibranium and, in conjunction with Ultron's personality and an Infinity Stone. JARVIS' duties were then taken over by FRIDAY.\""
   ]
  },
  {
   "cell_type": "markdown",
   "metadata": {},
   "source": [
    "## Problem 6"
   ]
  },
  {
   "cell_type": "code",
   "execution_count": 2,
   "metadata": {},
   "outputs": [],
   "source": [
    "from nltk import sent_tokenize\n",
    "from nltk.util import everygrams\n",
    "from nltk import word_tokenize\n",
    "import requests\n",
    "import re\n",
    "import spacy\n",
    "import en_core_web_sm"
   ]
  },
  {
   "cell_type": "code",
   "execution_count": 3,
   "metadata": {},
   "outputs": [],
   "source": [
    "sent=sent_tokenize(text)\n",
    "def get_ngrams(text):\n",
    "    n_grams = everygrams(word_tokenize(text), max_len=3)\n",
    "    return [ ' '.join(grams) for grams in n_grams]\n",
    "def context_search(keyword):\n",
    "    results=[]\n",
    "    for index,i in enumerate(sent):\n",
    "        i=i.lower()\n",
    "        lst=get_ngrams(i)\n",
    "        if keyword in lst:\n",
    "             results.append((sent[index]))\n",
    "    return results"
   ]
  },
  {
   "cell_type": "code",
   "execution_count": 4,
   "metadata": {},
   "outputs": [
    {
     "data": {
      "text/plain": [
       "['After creating the Mark II armor, Stark uploaded JARVIS into all of the Iron Man Armors, as well as allowing him to interact with the other Avengers, giving them valuable information during combat.']"
      ]
     },
     "execution_count": 4,
     "metadata": {},
     "output_type": "execute_result"
    }
   ],
   "source": [
    "context_search(\"armors\")"
   ]
  },
  {
   "cell_type": "code",
   "execution_count": 5,
   "metadata": {},
   "outputs": [
    {
     "data": {
      "text/plain": [
       "[\"During the Ultron Offensive, JARVIS was destroyed by Ultron, although his remaining programming codes unknowingly continued to thwart Ultron's plans of gaining access to nuclear missiles.\",\n",
       " \"His remains were found by Stark, who uploaded them into a synthetic body made of vibranium and, in conjunction with Ultron's personality and an Infinity Stone.\"]"
      ]
     },
     "execution_count": 5,
     "metadata": {},
     "output_type": "execute_result"
    }
   ],
   "source": [
    "context_search(\"ultron\")"
   ]
  },
  {
   "cell_type": "code",
   "execution_count": 6,
   "metadata": {},
   "outputs": [
    {
     "data": {
      "text/plain": [
       "[\"During the Ultron Offensive, JARVIS was destroyed by Ultron, although his remaining programming codes unknowingly continued to thwart Ultron's plans of gaining access to nuclear missiles.\"]"
      ]
     },
     "execution_count": 6,
     "metadata": {},
     "output_type": "execute_result"
    }
   ],
   "source": [
    "context_search(\"ultron offensive\")"
   ]
  },
  {
   "cell_type": "markdown",
   "metadata": {},
   "source": [
    "## Problem 5"
   ]
  },
  {
   "cell_type": "code",
   "execution_count": 7,
   "metadata": {},
   "outputs": [],
   "source": [
    "text=u\"Just A Rather Very Intelligent System a.k.a JARVIS is created by Tony Stark natural-language and a sophisticated artificial intelligence user interface computer system, named after Edwin Jarvis, the butler who worked for Howard Stark. Though its primary duty is to automate Stark’s Malibu estate, the lifelike program fulfills many other needs for Stark, like being an information source for him, a diagnostic tool, a consultant and a voice of reason in Stark’s life. It was also responsible to provide security for Tony Stark's Mansion and Stark Tower. After creating the Mark II armor, Stark uploaded JARVIS into all of the Iron Man Armors, as well as allowing him to interact with the other Avengers, giving them valuable information during combat. JARVIS may be the one intellect Stark feels most comfortable opening up to. JARVIS can object to Stark’s commands if necessary. JARVIS speaks with a refined British accent, and is capable of back talk, sarcasm and condescension. During the Ultron Offensive, JARVIS was destroyed by Ultron, although his remaining programming codes unknowingly continued to thwart Ultron's plans of gaining access to nuclear missiles. His remains were found by Stark, who uploaded them into a synthetic body made of vibranium and, in conjunction with Ultron's personality and an Infinity Stone. JARVIS' duties were then taken over by FRIDAY.\""
   ]
  },
  {
   "cell_type": "code",
   "execution_count": 8,
   "metadata": {},
   "outputs": [],
   "source": [
    "import re\n",
    "import nltk \n",
    "import re\n",
    "import string\n",
    "import pandas as pd\n",
    "from nltk import bigrams, trigrams\n",
    "from nltk import word_tokenize\n",
    "from nltk import everygrams"
   ]
  },
  {
   "cell_type": "code",
   "execution_count": 9,
   "metadata": {},
   "outputs": [],
   "source": [
    "def preprocessing(text):\n",
    "    text = re.sub(r\"[,]\",'', text) \n",
    "    text = re.sub(r\"[^a-zA-ZÀ-ÿ- ]\",'', text)\n",
    "    text=text.lower()\n",
    "    return text\n",
    "text=preprocessing(text)"
   ]
  },
  {
   "cell_type": "code",
   "execution_count": 10,
   "metadata": {},
   "outputs": [
    {
     "data": {
      "text/plain": [
       "'just a rather very intelligent system aka jarvis is created by tony stark natural-language and a sophisticated artificial intelligence user interface computer system named after edwin jarvis the butler who worked for howard stark though its primary duty is to automate starks malibu estate the lifelike program fulfills many other needs for stark like being an information source for him a diagnostic tool a consultant and a voice of reason in starks life it was also responsible to provide security for tony starks mansion and stark tower after creating the mark ii armor stark uploaded jarvis into all of the iron man armors as well as allowing him to interact with the other avengers giving them valuable information during combat jarvis may be the one intellect stark feels most comfortable opening up to jarvis can object to starks commands if necessary jarvis speaks with a refined british accent and is capable of back talk sarcasm and condescension during the ultron offensive jarvis was destroyed by ultron although his remaining programming codes unknowingly continued to thwart ultrons plans of gaining access to nuclear missiles his remains were found by stark who uploaded them into a synthetic body made of vibranium and in conjunction with ultrons personality and an infinity stone jarvis duties were then taken over by friday'"
      ]
     },
     "execution_count": 10,
     "metadata": {},
     "output_type": "execute_result"
    }
   ],
   "source": [
    "text"
   ]
  },
  {
   "cell_type": "code",
   "execution_count": 11,
   "metadata": {},
   "outputs": [],
   "source": [
    "def Ngrams(text, n):    \n",
    "    if n==1:\n",
    "        l = (word_tokenize(text))\n",
    "        return l\n",
    "    if n==2:\n",
    "        n_grams = bigrams(word_tokenize(text))\n",
    "        return [ ' '.join(grams) for grams in n_grams]      \n",
    "    if n==3:\n",
    "        n_grams = trigrams(word_tokenize(text))\n",
    "        return [ ' '.join(grams) for grams in n_grams]"
   ]
  },
  {
   "cell_type": "code",
   "execution_count": 12,
   "metadata": {},
   "outputs": [],
   "source": [
    "english_unigrams=Ngrams((text),1)\n",
    "english_bigrams=Ngrams((text),2)\n",
    "english_trigrams=Ngrams((text),3)"
   ]
  },
  {
   "cell_type": "code",
   "execution_count": 13,
   "metadata": {},
   "outputs": [
    {
     "data": {
      "text/plain": [
       "['just a',\n",
       " 'a rather',\n",
       " 'rather very',\n",
       " 'very intelligent',\n",
       " 'intelligent system',\n",
       " 'system aka',\n",
       " 'aka jarvis',\n",
       " 'jarvis is',\n",
       " 'is created',\n",
       " 'created by']"
      ]
     },
     "execution_count": 13,
     "metadata": {},
     "output_type": "execute_result"
    }
   ],
   "source": [
    "english_bigrams[0:10]"
   ]
  },
  {
   "cell_type": "code",
   "execution_count": 14,
   "metadata": {},
   "outputs": [
    {
     "data": {
      "text/plain": [
       "['just',\n",
       " 'a',\n",
       " 'rather',\n",
       " 'very',\n",
       " 'intelligent',\n",
       " 'system',\n",
       " 'aka',\n",
       " 'jarvis',\n",
       " 'is',\n",
       " 'created']"
      ]
     },
     "execution_count": 14,
     "metadata": {},
     "output_type": "execute_result"
    }
   ],
   "source": [
    "english_unigrams[0:10]"
   ]
  },
  {
   "cell_type": "code",
   "execution_count": 15,
   "metadata": {},
   "outputs": [
    {
     "data": {
      "text/plain": [
       "['just a rather',\n",
       " 'a rather very',\n",
       " 'rather very intelligent',\n",
       " 'very intelligent system',\n",
       " 'intelligent system aka',\n",
       " 'system aka jarvis',\n",
       " 'aka jarvis is',\n",
       " 'jarvis is created',\n",
       " 'is created by',\n",
       " 'created by tony']"
      ]
     },
     "execution_count": 15,
     "metadata": {},
     "output_type": "execute_result"
    }
   ],
   "source": [
    "english_trigrams[0:10]"
   ]
  },
  {
   "cell_type": "code",
   "execution_count": 16,
   "metadata": {},
   "outputs": [],
   "source": [
    "#Unigram word counts\n",
    "def wordcount(fdist, modals, total_Count):    \n",
    "    count = {}\n",
    "    for m in modals:\n",
    "        #smoothing\n",
    "        char_Count = fdist[m]\n",
    "        count[m] = char_Count\n",
    "    return count\n",
    "modals = set(english_unigrams)\n",
    "fdist = nltk.FreqDist(english_unigrams)\n",
    "vocab_uni=len(modals)\n",
    "count = len(english_unigrams)\n",
    "total_Count = (count+vocab_uni)\n",
    "eng_prob_dict_uni = wordcount(fdist,modals, total_Count)"
   ]
  },
  {
   "cell_type": "code",
   "execution_count": 17,
   "metadata": {},
   "outputs": [],
   "source": [
    "#Bigram word counts\n",
    "def wordcount(fdist, modals, total_Count):    \n",
    "    count = {}\n",
    "    for m in modals:\n",
    "        #smoothing\n",
    "        char_Count = fdist[m]\n",
    "        count[m] = char_Count\n",
    "    return count\n",
    "modals = set(english_bigrams)\n",
    "vocab_bi=len(modals)\n",
    "fdist = nltk.FreqDist(english_bigrams)\n",
    "count = len(english_bigrams)\n",
    "total_Count = (count+vocab_bi)\n",
    "eng_prob_dict_bi = wordcount(fdist,modals, total_Count)"
   ]
  },
  {
   "cell_type": "code",
   "execution_count": 18,
   "metadata": {},
   "outputs": [],
   "source": [
    "#Trigram word counts\n",
    "def wordcount(fdist, modals, total_Count):    \n",
    "    count = {}\n",
    "    for m in modals:\n",
    "        #smoothing\n",
    "        char_Count = fdist[m]\n",
    "        count[m] = char_Count\n",
    "    return count\n",
    "modals = set(english_trigrams)\n",
    "fdist = nltk.FreqDist(english_trigrams)\n",
    "count = len(english_trigrams)\n",
    "vocab_tri=len(modals)\n",
    "total_Count = (count+vocab_tri)\n",
    "eng_prob_dict_tri = wordcount(fdist,modals, total_Count)"
   ]
  },
  {
   "cell_type": "code",
   "execution_count": 19,
   "metadata": {},
   "outputs": [],
   "source": [
    "# Probability prediction for bigrams\n",
    "def bigram_prediction(sentence):\n",
    "    lst=[]\n",
    "    word=word_tokenize(preprocessing(sentence))[-1]\n",
    "    for i in set(english_unigrams):\n",
    "        if(word+\" \"+i in set(english_bigrams) and word in set(english_unigrams)):\n",
    "            lst.append((i,eng_prob_dict_bi[word+\" \"+i]+1/(eng_prob_dict_uni[word]+vocab_uni)))\n",
    "        elif(word+\" \"+i not in set(english_bigrams) and word in set(english_unigrams)):\n",
    "            lst.append((i,1/(eng_prob_dict_uni[word]+vocab_uni)))\n",
    "        else:\n",
    "            lst.append((i,1/vocab_uni))\n",
    "    sorted_lst = sorted(lst, key=lambda tup: tup[1],reverse=True)\n",
    "    return sorted_lst[0][0]"
   ]
  },
  {
   "cell_type": "code",
   "execution_count": 20,
   "metadata": {},
   "outputs": [],
   "source": [
    "# Probability prediction for trigrams\n",
    "def trigram_prediction(sentence):\n",
    "    lst=[]\n",
    "    word=word_tokenize(preprocessing(sentence))[-2:]\n",
    "    for i in set(english_unigrams):\n",
    "        if(\" \".join(word)+\" \"+i in set(english_trigrams) and \" \".join(word) in set(english_bigrams)):\n",
    "            lst.append((i,eng_prob_dict_tri[\" \".join(word)+\" \"+i]+1/(eng_prob_dict_bi[\" \".join(word)]+vocab_bi)))\n",
    "        elif(\" \".join(word)+\" \"+i not in set(english_trigrams) and \" \".join(word) in set(english_bigrams)):\n",
    "            lst.append((i,1/(eng_prob_dict_bi[\" \".join(word)]+vocab_bi)))\n",
    "        else:\n",
    "            lst.append((i,1/vocab_bi))\n",
    "    sorted_lst = sorted(lst, key=lambda tup: tup[1],reverse=True)\n",
    "    return sorted_lst[0][0]"
   ]
  },
  {
   "cell_type": "code",
   "execution_count": 21,
   "metadata": {},
   "outputs": [],
   "source": [
    "def trigram_next_word(sentence):\n",
    "    output=[]\n",
    "    for i in range(20):\n",
    "        if(len(word_tokenize(sentence))>2):\n",
    "            output.append(trigram_prediction(sentence))\n",
    "            sentence=sentence + \" \" + trigram_prediction(sentence)\n",
    "        else:\n",
    "            output.append(bigram_prediction(sentence))\n",
    "            sentence=sentence + \" \" + bigram_prediction(sentence)\n",
    "    print(\" \".join(output))"
   ]
  },
  {
   "cell_type": "code",
   "execution_count": 22,
   "metadata": {},
   "outputs": [],
   "source": [
    "def bigram_next_word(sentence):\n",
    "    output=[]\n",
    "    for i in range(20):\n",
    "        output.append(bigram_prediction(sentence))\n",
    "        sentence=sentence + \" \" + bigram_prediction(sentence)\n",
    "    print(\" \".join(output))"
   ]
  },
  {
   "cell_type": "markdown",
   "metadata": {},
   "source": [
    "### Trigram Predictions"
   ]
  },
  {
   "cell_type": "code",
   "execution_count": 23,
   "metadata": {},
   "outputs": [
    {
     "name": "stdout",
     "output_type": "stream",
     "text": [
      "intelligence user interface computer system named after edwin jarvis the butler who worked for howard stark though its primary duty\n"
     ]
    }
   ],
   "source": [
    "trigram_next_word(\" a sophisticated artificial \")"
   ]
  },
  {
   "cell_type": "code",
   "execution_count": 24,
   "metadata": {},
   "outputs": [
    {
     "name": "stdout",
     "output_type": "stream",
     "text": [
      "commands if necessary jarvis speaks with a refined british accent and is capable of back talk sarcasm and condescension during\n"
     ]
    }
   ],
   "source": [
    "trigram_next_word(\" JARVIS can object to Stark’s \")"
   ]
  },
  {
   "cell_type": "code",
   "execution_count": 25,
   "metadata": {},
   "outputs": [
    {
     "name": "stdout",
     "output_type": "stream",
     "text": [
      "tony stark natural-language and a voice of reason in starks life it was also responsible to provide security for tony\n"
     ]
    }
   ],
   "source": [
    "trigram_next_word(\" JARVIS is created by\")"
   ]
  },
  {
   "cell_type": "code",
   "execution_count": 26,
   "metadata": {},
   "outputs": [
    {
     "name": "stdout",
     "output_type": "stream",
     "text": [
      "ultron although his remaining programming codes unknowingly continued to thwart ultrons plans of gaining access to nuclear missiles his remains\n"
     ]
    }
   ],
   "source": [
    "trigram_next_word(\" JARVIS was destroyed by\")"
   ]
  },
  {
   "cell_type": "markdown",
   "metadata": {},
   "source": [
    "### Bigram Predictions"
   ]
  },
  {
   "cell_type": "code",
   "execution_count": 27,
   "metadata": {},
   "outputs": [
    {
     "name": "stdout",
     "output_type": "stream",
     "text": [
      "intelligence user interface computer system aka jarvis speaks with the mark ii armor stark natural-language and a diagnostic tool a\n"
     ]
    }
   ],
   "source": [
    "bigram_next_word(\" a sophisticated artificial \")"
   ]
  },
  {
   "cell_type": "code",
   "execution_count": 28,
   "metadata": {},
   "outputs": [
    {
     "name": "stdout",
     "output_type": "stream",
     "text": [
      "commands if necessary jarvis speaks with the mark ii armor stark natural-language and a diagnostic tool a diagnostic tool a\n"
     ]
    }
   ],
   "source": [
    "bigram_next_word(\" JARVIS can object to Stark’s  \")"
   ]
  },
  {
   "cell_type": "code",
   "execution_count": 29,
   "metadata": {},
   "outputs": [
    {
     "name": "stdout",
     "output_type": "stream",
     "text": [
      "friday missiles his remaining programming codes unknowingly continued to provide security for howard stark natural-language and a diagnostic tool a\n"
     ]
    }
   ],
   "source": [
    "bigram_next_word(\" JARVIS is created by\")"
   ]
  },
  {
   "cell_type": "code",
   "execution_count": 30,
   "metadata": {},
   "outputs": [
    {
     "name": "stdout",
     "output_type": "stream",
     "text": [
      "friday missiles his remaining programming codes unknowingly continued to provide security for howard stark natural-language and a diagnostic tool a\n"
     ]
    }
   ],
   "source": [
    "bigram_next_word(\" JARVIS was destroyed by\")"
   ]
  },
  {
   "cell_type": "code",
   "execution_count": null,
   "metadata": {},
   "outputs": [],
   "source": []
  }
 ],
 "metadata": {
  "kernelspec": {
   "display_name": "Python 3",
   "language": "python",
   "name": "python3"
  },
  "language_info": {
   "codemirror_mode": {
    "name": "ipython",
    "version": 3
   },
   "file_extension": ".py",
   "mimetype": "text/x-python",
   "name": "python",
   "nbconvert_exporter": "python",
   "pygments_lexer": "ipython3",
   "version": "3.6.5"
  }
 },
 "nbformat": 4,
 "nbformat_minor": 2
}
